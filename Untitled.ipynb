{
 "cells": [
  {
   "cell_type": "code",
   "execution_count": 2,
   "id": "comparative-allah",
   "metadata": {},
   "outputs": [],
   "source": [
    "import numpy as np"
   ]
  },
  {
   "cell_type": "code",
   "execution_count": 84,
   "id": "ancient-external",
   "metadata": {},
   "outputs": [
    {
     "name": "stdout",
     "output_type": "stream",
     "text": [
      "[[1]\n",
      " [0]]\n",
      "[[0.63461755]\n",
      " [0.51566612]]\n",
      "[[ 0.36538245]\n",
      " [-0.51566612]]\n",
      "[[0.29644261]\n",
      " [0.35220877]]\n",
      "[[0.30539793]\n",
      " [0.50738351]]\n",
      "[[0.63461755]\n",
      " [0.51566612]]\n",
      "[[0.23187812]\n",
      " [0.24975457]]\n"
     ]
    },
    {
     "ename": "ValueError",
     "evalue": "shapes (2,1) and (2,1) not aligned: 1 (dim 1) != 2 (dim 0)",
     "output_type": "error",
     "traceback": [
      "\u001b[1;31m---------------------------------------------------------------------------\u001b[0m",
      "\u001b[1;31mValueError\u001b[0m                                Traceback (most recent call last)",
      "\u001b[1;32m<ipython-input-84-d3353195251c>\u001b[0m in \u001b[0;36m<module>\u001b[1;34m\u001b[0m\n\u001b[0;32m     57\u001b[0m \u001b[1;33m\u001b[0m\u001b[0m\n\u001b[0;32m     58\u001b[0m \u001b[0mn\u001b[0m \u001b[1;33m=\u001b[0m \u001b[0mneuralNetwork\u001b[0m\u001b[1;33m(\u001b[0m\u001b[1;36m2\u001b[0m\u001b[1;33m,\u001b[0m\u001b[1;36m2\u001b[0m\u001b[1;33m,\u001b[0m\u001b[1;36m2\u001b[0m\u001b[1;33m)\u001b[0m\u001b[1;33m\u001b[0m\u001b[1;33m\u001b[0m\u001b[0m\n\u001b[1;32m---> 59\u001b[1;33m \u001b[0mn\u001b[0m\u001b[1;33m.\u001b[0m\u001b[0mtrain\u001b[0m\u001b[1;33m(\u001b[0m\u001b[1;33m[\u001b[0m\u001b[1;36m1\u001b[0m\u001b[1;33m,\u001b[0m\u001b[1;36m1\u001b[0m\u001b[1;33m]\u001b[0m\u001b[1;33m,\u001b[0m \u001b[1;33m[\u001b[0m\u001b[1;36m1\u001b[0m\u001b[1;33m,\u001b[0m \u001b[1;36m0\u001b[0m\u001b[1;33m]\u001b[0m\u001b[1;33m)\u001b[0m\u001b[1;33m\u001b[0m\u001b[1;33m\u001b[0m\u001b[0m\n\u001b[0m\u001b[0;32m     60\u001b[0m \u001b[1;33m\u001b[0m\u001b[0m\n",
      "\u001b[1;32m<ipython-input-84-d3353195251c>\u001b[0m in \u001b[0;36mtrain\u001b[1;34m(self, inputs, targets)\u001b[0m\n\u001b[0;32m     47\u001b[0m         \u001b[0mgradients\u001b[0m      \u001b[1;33m=\u001b[0m \u001b[0mnp\u001b[0m\u001b[1;33m.\u001b[0m\u001b[0mvectorize\u001b[0m\u001b[1;33m(\u001b[0m\u001b[0mself\u001b[0m\u001b[1;33m.\u001b[0m\u001b[0mgradient\u001b[0m\u001b[1;33m)\u001b[0m\u001b[1;33m(\u001b[0m\u001b[0moutputs\u001b[0m\u001b[1;33m)\u001b[0m\u001b[1;33m\u001b[0m\u001b[1;33m\u001b[0m\u001b[0m\n\u001b[0;32m     48\u001b[0m         \u001b[0mprint\u001b[0m\u001b[1;33m(\u001b[0m\u001b[0mgradients\u001b[0m\u001b[1;33m)\u001b[0m\u001b[1;33m\u001b[0m\u001b[1;33m\u001b[0m\u001b[0m\n\u001b[1;32m---> 49\u001b[1;33m         \u001b[0mgradients\u001b[0m      \u001b[1;33m=\u001b[0m \u001b[0mgradients\u001b[0m\u001b[1;33m.\u001b[0m\u001b[0mdot\u001b[0m\u001b[1;33m(\u001b[0m\u001b[0moutputErrors\u001b[0m\u001b[1;33m)\u001b[0m \u001b[1;33m*\u001b[0m \u001b[0mself\u001b[0m\u001b[1;33m.\u001b[0m\u001b[0mlr\u001b[0m\u001b[1;33m\u001b[0m\u001b[1;33m\u001b[0m\u001b[0m\n\u001b[0m\u001b[0;32m     50\u001b[0m         \u001b[0mdwHO\u001b[0m           \u001b[1;33m=\u001b[0m \u001b[0mgradients\u001b[0m\u001b[1;33m.\u001b[0m\u001b[0mdot\u001b[0m\u001b[1;33m(\u001b[0m\u001b[0mhidden\u001b[0m\u001b[1;33m.\u001b[0m\u001b[0mT\u001b[0m\u001b[1;33m)\u001b[0m\u001b[1;33m\u001b[0m\u001b[1;33m\u001b[0m\u001b[0m\n\u001b[0;32m     51\u001b[0m         \u001b[0mself\u001b[0m\u001b[1;33m.\u001b[0m\u001b[0mweightsHO\u001b[0m \u001b[1;33m+=\u001b[0m \u001b[0mdwHO\u001b[0m\u001b[1;33m\u001b[0m\u001b[1;33m\u001b[0m\u001b[0m\n",
      "\u001b[1;31mValueError\u001b[0m: shapes (2,1) and (2,1) not aligned: 1 (dim 1) != 2 (dim 0)"
     ]
    }
   ],
   "source": [
    "class neuralNetwork():\n",
    "    def __init__(self, i, h, o):\n",
    "        self.i         = i\n",
    "        self.h         = h\n",
    "        self.o         = o\n",
    "        \n",
    "        self.weightsIH = np.random.uniform(low=-1, high=1, size=(self.h, self.i))\n",
    "        self.weightsHO = np.random.uniform(low=-1, high=1, size=(self.o, self.h))\n",
    "        \n",
    "        self.biasH     = np.random.uniform(low=-1, high=1, size=(self.h, 1))\n",
    "        self.biasO     = np.random.uniform(low=-1, high=1, size=(self.o, 1))\n",
    "        \n",
    "        self.lr        = 0.1\n",
    "    \n",
    "    def activationFunction(self, x):\n",
    "        return 1/(1 + np.exp(-x))\n",
    "    \n",
    "    def gradient(self, y):\n",
    "        return y * (1 - y)\n",
    "\n",
    "    def feedForward(self, inputs):\n",
    "        inputs = np.array([inputs]).T\n",
    "        hidden = self.weightsIH.dot(inputs) + self.biasH\n",
    "        hidden = np.vectorize(self.activationFunction)(hidden)\n",
    "        output = self.weightsHO.dot(hidden) + self.biasO\n",
    "        output = np.vectorize(self.activationFunction)(output)\n",
    "\n",
    "        return np.reshape(output, self.o)\n",
    "    \n",
    "    def train(self, inputs, targets):\n",
    "        inputs         = np.array([inputs]).T\n",
    "        targets        = np.array([targets]).T\n",
    "        hidden         = self.weightsIH.dot(inputs) + self.biasH\n",
    "        hidden         = np.vectorize(self.activationFunction)(hidden)\n",
    "        outputs        = self.weightsHO.dot(hidden) + self.biasO\n",
    "        outputs        = np.vectorize(self.activationFunction)(outputs)\n",
    "        print(targets)\n",
    "        print(outputs)\n",
    "\n",
    "        outputErrors   = targets - outputs\n",
    "        hiddenErrors   = (self.weightsHO.T).dot(outputErrors)\n",
    "        print(outputErrors)\n",
    "        print(hidden)\n",
    "        print(hiddenErrors)\n",
    "        \n",
    "        print(outputs)\n",
    "        gradients      = np.vectorize(self.gradient)(outputs)\n",
    "        print(gradients)\n",
    "        gradients      = gradients.dot(outputErrors) * self.lr\n",
    "        dwHO           = gradients.dot(hidden.T)\n",
    "        self.weightsHO += dwHO\n",
    "        \n",
    "        hiddenGradients = np.vectorize(self.gradient)(hidden)\n",
    "        hiddenGradients = hiddenGradients.dot(hiddenErrors) * self.lr\n",
    "        dwIH            = hiddenGradients.dot(inputs.T)\n",
    "        self.weightsIH  += dwIH\n",
    "\n",
    "n = neuralNetwork(2,2,2)\n",
    "n.train([1,1], [1, 0])\n",
    "        "
   ]
  }
 ],
 "metadata": {
  "kernelspec": {
   "display_name": "Python 3",
   "language": "python",
   "name": "python3"
  },
  "language_info": {
   "codemirror_mode": {
    "name": "ipython",
    "version": 3
   },
   "file_extension": ".py",
   "mimetype": "text/x-python",
   "name": "python",
   "nbconvert_exporter": "python",
   "pygments_lexer": "ipython3",
   "version": "3.8.5"
  }
 },
 "nbformat": 4,
 "nbformat_minor": 5
}
