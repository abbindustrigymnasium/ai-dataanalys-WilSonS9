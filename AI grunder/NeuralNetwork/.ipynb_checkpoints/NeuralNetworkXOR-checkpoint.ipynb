{
 "cells": [
  {
   "cell_type": "code",
   "execution_count": 1,
   "id": "comparative-allah",
   "metadata": {},
   "outputs": [],
   "source": [
    "import numpy as np\n",
    "import random"
   ]
  },
  {
   "cell_type": "code",
   "execution_count": 21,
   "id": "ancient-external",
   "metadata": {},
   "outputs": [],
   "source": [
    "class neuralNetwork():\n",
    "    def __init__(self, i, h, o):\n",
    "        self.i         = i\n",
    "        self.h         = h\n",
    "        self.o         = o\n",
    "        \n",
    "        self.weightsIH = np.random.uniform(low=-1, high=1, size=(self.h, self.i))\n",
    "        self.weightsHO = np.random.uniform(low=-1, high=1, size=(self.o, self.h))\n",
    "        \n",
    "        self.biasH     = np.random.uniform(low=-1, high=1, size=(self.h, 1))\n",
    "        self.biasO     = np.random.uniform(low=-1, high=1, size=(self.o, 1))\n",
    "        \n",
    "        self.lr        = 0.1\n",
    "    \n",
    "    def activationFunction(self, x):\n",
    "        return 1/(1 + np.exp(-x))\n",
    "    \n",
    "    def gradient(self, y):\n",
    "        return y * (1 - y)\n",
    "\n",
    "    def feedForward(self, inputs):\n",
    "        inputs = np.array([inputs]).T\n",
    "        hidden = self.weightsIH.dot(inputs) + self.biasH\n",
    "        hidden = np.vectorize(self.activationFunction)(hidden)\n",
    "        output = self.weightsHO.dot(hidden) + self.biasO\n",
    "        output = np.vectorize(self.activationFunction)(output)\n",
    "\n",
    "        return np.reshape(output, self.o)\n",
    "    \n",
    "    def train(self, inputs, targets):\n",
    "        inputs          = np.array([inputs]).T\n",
    "        targets         = np.array([targets]).T\n",
    "        hidden          = self.weightsIH.dot(inputs) + self.biasH\n",
    "        hidden          = np.vectorize(self.activationFunction)(hidden)\n",
    "        outputs         = self.weightsHO.dot(hidden) + self.biasO\n",
    "        outputs         = np.vectorize(self.activationFunction)(outputs)\n",
    "\n",
    "        outputErrors    = targets - outputs\n",
    "        hiddenErrors    = (self.weightsHO.T).dot(outputErrors)\n",
    "        \n",
    "        gradients       = np.vectorize(self.gradient)(outputs)\n",
    "        gradients       = self.lr * np.multiply(gradients, outputErrors)\n",
    "        dwHO            = gradients.dot(hidden.T)\n",
    "        self.weightsHO  += dwHO\n",
    "        self.biasO      += gradients\n",
    "        \n",
    "        hiddenGradients = np.vectorize(self.gradient)(hidden)\n",
    "        hiddenGradients = self.lr * np.multiply(hiddenGradients, hiddenErrors)\n",
    "        dwIH            = hiddenGradients.dot(inputs.T)\n",
    "        self.weightsIH  += dwIH\n",
    "        self.biasH      += hiddenGradients\n",
    "\n",
    "n = neuralNetwork(2,5,1)\n",
    "        "
   ]
  },
  {
   "cell_type": "code",
   "execution_count": 22,
   "id": "level-appeal",
   "metadata": {},
   "outputs": [
    {
     "name": "stdout",
     "output_type": "stream",
     "text": [
      "Wall time: 0 ns\n",
      "Wall time: 0 ns\n"
     ]
    }
   ],
   "source": [
    "%time\n",
    "trainingData = [([1,1], [0]), ([1,0], [1]), ([0,1], [1]), ([0,0], [0])]\n",
    "for nw in range(100000):\n",
    "    tup = random.sample(trainingData, 1)\n",
    "    n.train(tup[0][0], tup[0][1])\n",
    "%time"
   ]
  },
  {
   "cell_type": "code",
   "execution_count": 26,
   "id": "accepted-throat",
   "metadata": {},
   "outputs": [
    {
     "data": {
      "text/plain": [
       "array([0.98513997])"
      ]
     },
     "execution_count": 26,
     "metadata": {},
     "output_type": "execute_result"
    }
   ],
   "source": [
    "n.feedForward([0,0])"
   ]
  }
 ],
 "metadata": {
  "kernelspec": {
   "display_name": "Python 3",
   "language": "python",
   "name": "python3"
  },
  "language_info": {
   "codemirror_mode": {
    "name": "ipython",
    "version": 3
   },
   "file_extension": ".py",
   "mimetype": "text/x-python",
   "name": "python",
   "nbconvert_exporter": "python",
   "pygments_lexer": "ipython3",
   "version": "3.8.5"
  }
 },
 "nbformat": 4,
 "nbformat_minor": 5
}
